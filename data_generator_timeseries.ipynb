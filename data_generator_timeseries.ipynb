{
 "cells": [
  {
   "cell_type": "code",
   "execution_count": 63,
   "id": "d310183d-d129-487e-9774-d1f9d8a0e8fa",
   "metadata": {},
   "outputs": [],
   "source": [
    "import pickle\n",
    "import numpy as np\n",
    "import os\n",
    "from sklearn.model_selection import train_test_split\n",
    "from torch.utils.data import DataLoader, TensorDataset, Dataset\n",
    "from sklearn.model_selection import StratifiedShuffleSplit"
   ]
  },
  {
   "cell_type": "code",
   "execution_count": 64,
   "id": "9126086e-21d0-46df-a541-ddd74bf4d1fd",
   "metadata": {},
   "outputs": [],
   "source": [
    "class WindowedSequenceDataset(Dataset):\n",
    "    def __init__(self, data, labels, window_size, stride):\n",
    "        self.data = []\n",
    "        self.labels = []\n",
    "        for trace, event_annotations in zip(data, labels):\n",
    "            for i in range(0, len(trace) - window_size + 1, stride):\n",
    "                window_trace = trace[i:i + window_size]\n",
    "                window_labels = event_annotations[i:i + window_size]\n",
    "                self.data.append(window_trace)\n",
    "                self.labels.append(window_labels)\n",
    "        self.data = np.array(self.data)\n",
    "        self.labels = np.array(self.labels)\n",
    "\n",
    "    def __len__(self):\n",
    "        return len(self.data)\n",
    "\n",
    "    def __getitem__(self, idx):\n",
    "        return torch.tensor(self.data[idx], dtype=torch.float32).unsqueeze(-1), torch.tensor(self.labels[idx], dtype=torch.long)\n"
   ]
  },
  {
   "cell_type": "code",
   "execution_count": 65,
   "id": "06b0eb3b-7aa3-4ea8-9f07-5b5e462b46d6",
   "metadata": {},
   "outputs": [],
   "source": [
    "# Load data function\n",
    "def load_data(fdata):\n",
    "    data = []\n",
    "    labels = []\n",
    "    for expt in fdata.keys():\n",
    "        for scan in fdata[expt]:\n",
    "            trace = fdata[expt][scan]['SOMA']['DENOISED_TRACE']\n",
    "            event = fdata[expt][scan]['SOMA']['SPIKE_INTERVAL']\n",
    "            data.append(trace)\n",
    "            labels.append(event)\n",
    "    return data, labels\n",
    "\n",
    "pickle_path = '/scratch/da3245/datasets/neuro_scans/cnn_training_set.pkl'\n",
    "with open(pickle_path, 'rb') as f:\n",
    "    fdata = pickle.load(f) \n",
    "data, labels = load_data(fdata)\n",
    "del fdata"
   ]
  },
  {
   "cell_type": "code",
   "execution_count": 66,
   "id": "515cb987-0c1d-462c-a23e-f7402488bac2",
   "metadata": {},
   "outputs": [],
   "source": [
    "split_percent=0.15\n",
    "X_train=[]\n",
    "y_train=[]\n",
    "X_val=[]\n",
    "y_val=[]\n",
    "X_test=[]\n",
    "y_test=[]\n",
    "for i in range(len(data)):\n",
    "    len_trace=len(data[i])\n",
    "    test_inx=split_percent*len_trace\n",
    "    train_inx =len_trace - 2* test_inx\n",
    "    val_inx=len_trace - test_inx\n",
    "    X_train.append(data[i][0:int(train_inx)])\n",
    "    y_train.append(labels[i][0:int(train_inx)])\n",
    "\n",
    "    X_val.append(data[i][int(train_inx):int(val_inx)])\n",
    "    y_val.append(labels[i][int(train_inx):int(val_inx)])\n",
    "\n",
    "    X_test.append(data[i][int(val_inx):])\n",
    "    y_test.append(labels[i][int(val_inx):])\n",
    "\n",
    "    "
   ]
  },
  {
   "cell_type": "code",
   "execution_count": 67,
   "id": "f198f2be-ca59-4ecf-b8f7-e3ccd1b5096c",
   "metadata": {},
   "outputs": [],
   "source": [
    "\n",
    "window_size = 500\n",
    "stride = 450\n",
    "\n",
    "windowed_train_dataset = WindowedSequenceDataset(X_train, y_train, window_size, stride)"
   ]
  },
  {
   "cell_type": "code",
   "execution_count": 68,
   "id": "96d783d4-d208-4c44-be2d-48eaa3e5e5e9",
   "metadata": {},
   "outputs": [
    {
     "data": {
      "text/plain": [
       "(25418, 500)"
      ]
     },
     "execution_count": 68,
     "metadata": {},
     "output_type": "execute_result"
    }
   ],
   "source": [
    "windowed_train_dataset.data.shape"
   ]
  },
  {
   "cell_type": "code",
   "execution_count": 69,
   "id": "ba26228c-ad2b-42c1-bba9-600b5b2b603c",
   "metadata": {},
   "outputs": [
    {
     "name": "stdout",
     "output_type": "stream",
     "text": [
      "10362\n",
      "Imbalance Perecentage Training 0.40766386025651113\n"
     ]
    }
   ],
   "source": [
    "stratify_labels = (windowed_train_dataset.labels.sum(axis=1) > 0).astype(int)\n",
    "print(sum(stratify_labels))\n",
    "print('Imbalance Perecentage Training',sum(stratify_labels)/windowed_train_dataset.labels.shape[0])"
   ]
  },
  {
   "cell_type": "code",
   "execution_count": 70,
   "id": "8ee1d128-e41d-41f8-a166-b146c47c853d",
   "metadata": {},
   "outputs": [
    {
     "name": "stdout",
     "output_type": "stream",
     "text": [
      "(5373, 500)\n",
      "1534\n",
      "Imbalance Perecentage valing 0.28550158198399406\n"
     ]
    }
   ],
   "source": [
    "\n",
    "windowed_val_dataset = WindowedSequenceDataset(X_val, y_val, window_size, stride)\n",
    "print(windowed_val_dataset.data.shape)\n",
    "stratify_labels = (windowed_val_dataset.labels.sum(axis=1) > 0).astype(int)\n",
    "print(sum(stratify_labels))\n",
    "print('Imbalance Perecentage valing',sum(stratify_labels)/windowed_val_dataset.labels.shape[0])"
   ]
  },
  {
   "cell_type": "code",
   "execution_count": 71,
   "id": "6fb59ad1-a741-415d-a542-6c9360359064",
   "metadata": {},
   "outputs": [
    {
     "name": "stdout",
     "output_type": "stream",
     "text": [
      "(5373, 500)\n",
      "1483\n",
      "Imbalance Perecentage testing 0.27600967801972826\n"
     ]
    }
   ],
   "source": [
    "windowed_test_dataset = WindowedSequenceDataset(X_test, y_test, window_size, stride)\n",
    "print(windowed_test_dataset.data.shape)\n",
    "stratify_labels = (windowed_test_dataset.labels.sum(axis=1) > 0).astype(int)\n",
    "print(sum(stratify_labels))\n",
    "print('Imbalance Perecentage testing',sum(stratify_labels)/windowed_test_dataset.labels.shape[0])"
   ]
  },
  {
   "cell_type": "code",
   "execution_count": 72,
   "id": "1b1e3f20-a4cc-432b-8b24-a7f305cc94de",
   "metadata": {},
   "outputs": [],
   "source": [
    "with open('datasets/timeseries_voltage/pre_split_overlap50.pkl', 'wb') as f:\n",
    "    pickle.dump({'X_train': windowed_train_dataset.data, 'y_train': windowed_train_dataset.labels,\n",
    "                 'X_val': windowed_val_dataset.data, 'y_val': windowed_val_dataset.labels,\n",
    "                 'X_test': windowed_test_dataset.data, 'y_test': windowed_test_dataset.labels,},\n",
    "                f)\n"
   ]
  },
  {
   "cell_type": "code",
   "execution_count": 22,
   "id": "5394e83b-02e0-4643-8cc7-276bf0b79a11",
   "metadata": {},
   "outputs": [],
   "source": [
    "\n",
    "window_size = 200\n",
    "stride = 200\n",
    "\n",
    "\n",
    "windowed_dataset = WindowedSequenceDataset(data, labels, window_size, stride)"
   ]
  },
  {
   "cell_type": "code",
   "execution_count": 23,
   "id": "07161b85-4fa3-4c5a-9883-c1d3d7f7e6c4",
   "metadata": {},
   "outputs": [
    {
     "data": {
      "text/plain": [
       "(81984, 200)"
      ]
     },
     "execution_count": 23,
     "metadata": {},
     "output_type": "execute_result"
    }
   ],
   "source": [
    "windowed_dataset.labels.shape"
   ]
  },
  {
   "cell_type": "code",
   "execution_count": 24,
   "id": "c47a5d80-8ff4-4c55-b2eb-b09a7e96d333",
   "metadata": {},
   "outputs": [
    {
     "name": "stdout",
     "output_type": "stream",
     "text": [
      "14977\n",
      "Imbalance Perecentage 0.18268198672911787\n"
     ]
    }
   ],
   "source": [
    "stratify_labels = (windowed_dataset.labels.sum(axis=1) > 0).astype(int)\n",
    "print(sum(stratify_labels))\n",
    "print('Imbalance Perecentage',sum(stratify_labels)/windowed_dataset.labels.shape[0])"
   ]
  },
  {
   "cell_type": "code",
   "execution_count": 25,
   "id": "78b33c9a-ce00-4e65-a542-20eb487a482d",
   "metadata": {},
   "outputs": [],
   "source": [
    "X_train, X_test, y_train, y_test = train_test_split(\n",
    "    windowed_dataset.data, windowed_dataset.labels, test_size=0.15, stratify=stratify_labels, random_state=42\n",
    ")\n",
    "new_strat=(y_train.sum(axis=1)>0).astype(int)\n",
    "X_train, X_val, y_train, y_val = train_test_split(\n",
    "    X_train, y_train, test_size=0.15,stratify=new_strat, random_state=42\n",
    ")"
   ]
  },
  {
   "cell_type": "code",
   "execution_count": 26,
   "id": "1e8e7e57-a5a3-4e89-bdbb-ea0c0b2d8340",
   "metadata": {},
   "outputs": [
    {
     "name": "stdout",
     "output_type": "stream",
     "text": [
      "(59233, 200) (12298, 200) (10453, 200)\n"
     ]
    }
   ],
   "source": [
    "print(X_train.shape,X_test.shape,X_val.shape)"
   ]
  },
  {
   "cell_type": "code",
   "execution_count": 27,
   "id": "3e587d31-ddcb-47a4-9715-0f1a1e37e4bf",
   "metadata": {},
   "outputs": [
    {
     "data": {
      "text/plain": [
       "np.float64(0.18266844495467055)"
      ]
     },
     "execution_count": 27,
     "metadata": {},
     "output_type": "execute_result"
    }
   ],
   "source": [
    "(y_train.sum(axis=1)>0).astype(int).sum()/len(y_train)"
   ]
  },
  {
   "cell_type": "code",
   "execution_count": 28,
   "id": "707c7e25-9b8e-4a66-92d5-328ceb6ec24e",
   "metadata": {},
   "outputs": [
    {
     "data": {
      "text/plain": [
       "np.float64(0.18272266335023438)"
      ]
     },
     "execution_count": 28,
     "metadata": {},
     "output_type": "execute_result"
    }
   ],
   "source": [
    "(y_val.sum(axis=1)>0).astype(int).sum()/len(y_val)"
   ]
  },
  {
   "cell_type": "code",
   "execution_count": 29,
   "id": "d6dcaebf-0258-49db-b8b9-ebfba7297d8f",
   "metadata": {},
   "outputs": [
    {
     "data": {
      "text/plain": [
       "np.float64(0.1827126362010083)"
      ]
     },
     "execution_count": 29,
     "metadata": {},
     "output_type": "execute_result"
    }
   ],
   "source": [
    "(y_test.sum(axis=1)>0).astype(int).sum()/len(y_test)"
   ]
  },
  {
   "cell_type": "code",
   "execution_count": 30,
   "id": "7dc5a643-c41d-48a7-a8ef-c8f9d9460ced",
   "metadata": {},
   "outputs": [],
   "source": [
    "with open('datasets/timeseries_voltage/stratified_no_overlap.pkl', 'wb') as f:\n",
    "    pickle.dump({'X_train': X_train, 'y_train': y_train,\n",
    "                 'X_val': X_val, 'y_val': y_val,\n",
    "                 'X_test': X_test, 'y_test': y_test}, f)\n"
   ]
  }
 ],
 "metadata": {
  "kernelspec": {
   "display_name": "cnn_train",
   "language": "python",
   "name": "cnn_train"
  },
  "language_info": {
   "codemirror_mode": {
    "name": "ipython",
    "version": 3
   },
   "file_extension": ".py",
   "mimetype": "text/x-python",
   "name": "python",
   "nbconvert_exporter": "python",
   "pygments_lexer": "ipython3",
   "version": "3.12.7"
  }
 },
 "nbformat": 4,
 "nbformat_minor": 5
}
