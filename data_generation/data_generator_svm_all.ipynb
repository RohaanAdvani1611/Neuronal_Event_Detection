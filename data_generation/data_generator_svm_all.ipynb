{
 "cells": [
  {
   "cell_type": "code",
   "execution_count": 1,
   "id": "d310183d-d129-487e-9774-d1f9d8a0e8fa",
   "metadata": {},
   "outputs": [],
   "source": [
    "import pickle\n",
    "import matplotlib.pyplot as plt\n",
    "import librosa\n",
    "import numpy as np\n",
    "import os\n",
    "import librosa.display\n",
    "import json\n",
    "from tqdm import tqdm\n",
    "import random"
   ]
  },
  {
   "cell_type": "code",
   "execution_count": 2,
   "id": "654abe52-a908-4471-986f-0ff184c60b4c",
   "metadata": {},
   "outputs": [],
   "source": [
    "random.seed(42)\n",
    "\n",
    "pickle_path = '/scratch/da3245/datasets/neuro_scans/cnn_training_set.pkl'\n",
    "#pickle_path = '/scratch/da3245/datasets/neuro_scans/KG127-EXPT_1_SCAN_146.pickle'\n",
    "with open(pickle_path, 'rb') as f:\n",
    "    fdata = pickle.load(f)"
   ]
  },
  {
   "cell_type": "code",
   "execution_count": 1,
   "id": "df0e61c1-9be6-46f8-96d4-04cad224d902",
   "metadata": {
    "scrolled": true
   },
   "outputs": [
    {
     "ename": "NameError",
     "evalue": "name 'fdata' is not defined",
     "output_type": "error",
     "traceback": [
      "\u001b[0;31m---------------------------------------------------------------------------\u001b[0m",
      "\u001b[0;31mNameError\u001b[0m                                 Traceback (most recent call last)",
      "Cell \u001b[0;32mIn[1], line 65\u001b[0m\n\u001b[1;32m     61\u001b[0m     np\u001b[38;5;241m.\u001b[39msave(feature_output_path, all_features)\n\u001b[1;32m     62\u001b[0m     \u001b[38;5;66;03m# print(f\"Saved features to {feature_output_path}\")\u001b[39;00m\n\u001b[0;32m---> 65\u001b[0m total_combinations \u001b[38;5;241m=\u001b[39m \u001b[38;5;28msum\u001b[39m(\u001b[38;5;28mlen\u001b[39m(fdata[expt]) \u001b[38;5;28;01mfor\u001b[39;00m expt \u001b[38;5;129;01min\u001b[39;00m \u001b[43mfdata\u001b[49m\u001b[38;5;241m.\u001b[39mkeys())\n\u001b[1;32m     66\u001b[0m total_samples \u001b[38;5;241m=\u001b[39m \u001b[38;5;241m100000\u001b[39m \u001b[38;5;66;03m# this controls dataset size\u001b[39;00m\n\u001b[1;32m     67\u001b[0m samples_per_combination \u001b[38;5;241m=\u001b[39m total_samples \u001b[38;5;241m/\u001b[39m\u001b[38;5;241m/\u001b[39m total_combinations\n",
      "\u001b[0;31mNameError\u001b[0m: name 'fdata' is not defined"
     ]
    }
   ],
   "source": [
    "def func2_diverse(data, name, max_samples):\n",
    "    temp = data['SOMA']\n",
    "    events = temp['SPIKE_INTERVAL']\n",
    "    denoised_trace = temp['DENOISED_TRACE']\n",
    "\n",
    "    output_dir = f\"/scratch/cpk286/datasets/data_original/{name}/\"\n",
    "    os.makedirs(output_dir, exist_ok=True)\n",
    "\n",
    "    mask_json_output_path = os.path.join(output_dir, \"mask.json\")\n",
    "    feature_output_path = os.path.join(output_dir, \"features.npy\")\n",
    "    trace_json_output_path = os.path.join(output_dir, \"trace.json\")\n",
    "\n",
    "    mask = {}\n",
    "    all_features = []\n",
    "\n",
    "    sr = 3328\n",
    "    n_fft = 12\n",
    "    hop_length = 1\n",
    "    n_mels = 7\n",
    "\n",
    "    mel_spectrogram = librosa.feature.melspectrogram(\n",
    "        y=denoised_trace,\n",
    "        sr=sr,\n",
    "        n_fft=n_fft,\n",
    "        hop_length=hop_length,\n",
    "        n_mels=n_mels,\n",
    "        power=2\n",
    "    )\n",
    "    mel_spectrogram_db = librosa.power_to_db(mel_spectrogram, ref=np.max)\n",
    "\n",
    "    # print(mel_spectrogram_db.shape)\n",
    "    features = mel_spectrogram_db.T\n",
    "\n",
    "    labels = events\n",
    "    # print(labels)\n",
    "\n",
    "    \n",
    "\n",
    "    # subsample the per combination limit \n",
    "    selected_indices = random.sample(\n",
    "        list(range(len(labels))),\n",
    "        max_samples\n",
    "    )\n",
    "\n",
    "    # Save the features and labels\n",
    "    for idx, i in enumerate(selected_indices):\n",
    "        mask[f\"sample_{idx + 1}\"] = labels[i]\n",
    "        all_features.append(features[i])\n",
    "\n",
    "    # print(mask)\n",
    "\n",
    "    # Save results\n",
    "    with open(mask_json_output_path, \"w\") as json_file:\n",
    "        json.dump(mask, json_file, indent=1)\n",
    "\n",
    "    with open(trace_json_output_path, \"w\") as json_file:\n",
    "        json.dump(list(denoised_trace), json_file, indent=1)\n",
    "\n",
    "\n",
    "    all_features = np.array(all_features)\n",
    "    np.save(feature_output_path, all_features)\n",
    "    # print(f\"Saved features to {feature_output_path}\")\n",
    "\n",
    "\n",
    "total_combinations = sum(len(fdata[expt]) for expt in fdata.keys())\n",
    "total_samples = 100000 # this controls dataset size\n",
    "samples_per_combination = total_samples // total_combinations\n",
    "print(samples_per_combination)\n",
    "# Process data\n",
    "for expt in tqdm(fdata.keys()):\n",
    "    for scan in fdata[expt]:\n",
    "        data = fdata[expt][scan]\n",
    "        func2_diverse(data, f'{expt}_{scan}', samples_per_combination)\n"
   ]
  },
  {
   "cell_type": "code",
   "execution_count": null,
   "id": "7c97a5ed-7b04-42a9-a2e5-8c821b2cd89e",
   "metadata": {},
   "outputs": [],
   "source": []
  }
 ],
 "metadata": {
  "kernelspec": {
   "display_name": "NF-Volt-2",
   "language": "python",
   "name": "nf-volt-2"
  },
  "language_info": {
   "codemirror_mode": {
    "name": "ipython",
    "version": 3
   },
   "file_extension": ".py",
   "mimetype": "text/x-python",
   "name": "python",
   "nbconvert_exporter": "python",
   "pygments_lexer": "ipython3",
   "version": "3.12.7"
  }
 },
 "nbformat": 4,
 "nbformat_minor": 5
}
